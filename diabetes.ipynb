{
 "cells": [
  {
   "cell_type": "markdown",
   "id": "85d67caa-1cfb-4447-aeb9-53bfa616903e",
   "metadata": {},
   "source": [
    "### กลุ่ม Diabetes Prediction\n",
    "1. 6610402205 นายรักษิต รุ่งรัตนไชย หมู่ 1\n",
    "2. 6610402132 นายบวรรัตน์ ตั้งนรารัชชกิจ หมู่ 1\n",
    "3. 6610401985 นายไชยวัตน์ หนูวัฒนา หมู่ 1"
   ]
  },
  {
   "cell_type": "markdown",
   "id": "4be9b3c5-75e8-43b5-b19e-6991f6fed9af",
   "metadata": {
    "jp-MarkdownHeadingCollapsed": true,
    "tags": []
   },
   "source": [
    "### วัตถุประสงค์ของระบบต้นแบบ\n",
    "\n",
    "กลุ่มของพวกเราเล็งเห็นถึงความสำคัญทางด้านสุขภาพของประชาชนคนไทย ในปัจจุบันคนไทยประสบกับปัญหาสุขภาพมากมายแต่หนึ่งปัญหาที่สร้างความเสียหายให้กับสุขภาพ และคนไทยเป็นกันมากที่สุดนั่นคือโรคเบาหวาน พฤติกรรมการใช้ชีวิตของคนไทยในสมัยนี้ก็เป็นปัจจัยหนึ่งที่ทำให้ปริมาณผู้ป่วยโรคเบาหวานเพิ่มมากยิ่งขึ้น พวกเราจึงอยากทำระบบต้นแบบที่ช่วยชี้แนะหรือแนะนำผู้ที่มาใช้งานระบบต้นแบบของเราว่ามีความเสี่ยงที่จะเป็นโรคเบาหวานหรือไม่เพื่อให้เกิดการตระหนักและระมัดระวังในพฤติกรรมการใช้ชีวิตของตนเองซึ่งระบบต้นแบบของเราไม่ได้แม่นยำ 100 เปอร์เซ็นต์ ไม่สามารถใช้วินิจฉัยโรคได้แต่ใช้ประเมินความเสี่ยงเบื่องต้นของผู้ที่มาใช้งานระบบได้หากมีความเสี่ยงก็สามารถให้แพทย์วินิจัยอย่างถูกต้องและแม่นยำต่อไป"
   ]
  },
  {
   "cell_type": "markdown",
   "id": "c1b39cef-bb54-47cd-aa24-5aaab545499b",
   "metadata": {},
   "source": [
    "### ลิงค์ไปยังข้อมูลที่จะใช้ในระบบต้นแบบ\n",
    "\n",
    "Link to data: https://www.kaggle.com/datasets/alexteboul/diabetes-health-indicators-dataset"
   ]
  },
  {
   "cell_type": "code",
   "execution_count": 1,
   "id": "bd9d9df1-c0e0-416c-82e6-29d0dcdfec1d",
   "metadata": {},
   "outputs": [],
   "source": [
    "import pandas as pd\n",
    "\n",
    "diabetes = pd.read_csv(\"diabetes_binary_health_indicators_BRFSS2015.csv\")"
   ]
  },
  {
   "cell_type": "markdown",
   "id": "04fd19d1-261f-4d5b-9368-08cc66bb7b4f",
   "metadata": {},
   "source": [
    "### ลิงค์ไปยัง Hugging Face Space ของตัวเองที่ออกแบบให้เหมาะสมกับวัตถุประสงค์"
   ]
  },
  {
   "cell_type": "code",
   "execution_count": null,
   "id": "e1e28186-b4bf-4c37-b767-6d6173892ae9",
   "metadata": {},
   "outputs": [],
   "source": []
  },
  {
   "cell_type": "markdown",
   "id": "da325df4-61d3-4e6c-87ee-58a665578fec",
   "metadata": {},
   "source": [
    "### ก​าร​มีส่วน​ร่วมของสม​าชิกแต่ละ​คนในกลุ่ม (แต่ล​ะคนทำอะไรบ้าง)"
   ]
  },
  {
   "cell_type": "code",
   "execution_count": null,
   "id": "a0a5113a-3acb-470a-9645-22a06cfb8a1c",
   "metadata": {},
   "outputs": [],
   "source": []
  },
  {
   "cell_type": "markdown",
   "id": "8753bf0f-051d-4e13-a01c-73e08204f107",
   "metadata": {},
   "source": [
    "### กา​รเปิ​ดเผ​ยกา​รใช้เค​รื่อ​งมือปัญ​ญาป​ระดิษฐ์ (ใช้อะไร ใช้เพื่ออะไร ใช้อย่างไร, pro​mpt อย่างไร)"
   ]
  },
  {
   "cell_type": "code",
   "execution_count": null,
   "id": "21c06666-5f46-46d4-89eb-1bc0af394ba8",
   "metadata": {},
   "outputs": [],
   "source": []
  }
 ],
 "metadata": {
  "kernelspec": {
   "display_name": "Python 3 (ipykernel)",
   "language": "python",
   "name": "python3"
  },
  "language_info": {
   "codemirror_mode": {
    "name": "ipython",
    "version": 3
   },
   "file_extension": ".py",
   "mimetype": "text/x-python",
   "name": "python",
   "nbconvert_exporter": "python",
   "pygments_lexer": "ipython3",
   "version": "3.10.9"
  }
 },
 "nbformat": 4,
 "nbformat_minor": 5
}
